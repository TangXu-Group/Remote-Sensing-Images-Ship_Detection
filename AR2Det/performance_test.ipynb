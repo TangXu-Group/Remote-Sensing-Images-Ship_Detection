{
 "cells": [
  {
   "cell_type": "code",
   "execution_count": 2,
   "metadata": {
    "ExecuteTime": {
     "end_time": "2021-06-28T07:41:05.244079Z",
     "start_time": "2021-06-28T07:41:00.140438Z"
    }
   },
   "outputs": [],
   "source": [
    "gpu_id = '1'\n",
    "t = 0.5\n",
    "region_side_length = 4\n",
    "\n",
    "\n",
    "import warnings\n",
    "warnings.filterwarnings(\"ignore\")\n",
    "import os\n",
    "os.environ['CUDA_VISIBLE_DEVICES'] = gpu_id\n",
    "\n",
    "import torch\n",
    "import time\n",
    "from tqdm import tqdm\n",
    "\n",
    "from torch.utils.data import DataLoader\n",
    "from data_utils.Dataset import Dataset,TestDataset,ValDataset,Test_FPS_Dataset,TestDataset_real\n",
    "\n",
    "from tra_val.evaluation import *\n",
    "from tra_val.loss import *\n",
    "from tra_val.tra_val import *\n",
    "from model.FARN import FARN\n",
    "data_dir= 'HRSC2016/'"
   ]
  },
  {
   "cell_type": "markdown",
   "metadata": {
    "ExecuteTime": {
     "end_time": "2020-10-16T04:50:37.698866Z",
     "start_time": "2020-10-16T04:50:37.640439Z"
    }
   },
   "source": [
    "## show_FPS"
   ]
  },
  {
   "cell_type": "code",
   "execution_count": 3,
   "metadata": {
    "ExecuteTime": {
     "end_time": "2021-06-28T07:41:14.067797Z",
     "start_time": "2021-06-28T07:41:09.677163Z"
    },
    "scrolled": true
   },
   "outputs": [
    {
     "name": "stderr",
     "output_type": "stream",
     "text": [
      " 17%|█▋        | 22/128 [00:00<00:00, 213.24it/s]"
     ]
    },
    {
     "name": "stdout",
     "output_type": "stream",
     "text": [
      "pixel_coordinates constructing\n"
     ]
    },
    {
     "name": "stderr",
     "output_type": "stream",
     "text": [
      "100%|██████████| 128/128 [00:00<00:00, 229.53it/s]\n"
     ]
    }
   ],
   "source": [
    "#load trained model\n",
    "model_trained = FARN(resnet_type='resnet34', boxes_dx_dy = 4 * region_side_length).cuda()\n",
    "model_trained.load_state_dict(torch.load('checkpoints_34/g1_FARN_region4_0.5_34_07map_0.8946_date_20210316_04_33_36'))\n",
    "model_trained.eval()\n",
    "\n",
    "test_fps_dataset = Test_FPS_Dataset(region_side_length,data_dir) #FPS test only with image\n",
    "test_fps_Dataloader = DataLoader(test_fps_dataset, 8, shuffle=False,\n",
    "                                               num_workers=8, pin_memory=True)\n",
    "\n",
    "pixel_coordinates = torch.zeros(128,128,2).cuda()\n",
    "print('pixel_coordinates constructing')\n",
    "for i in tqdm(range(128)):\n",
    "    for ii in range(128):\n",
    "        pixel_coordinates[i,ii,:] = torch.tensor([ii,i])*4"
   ]
  },
  {
   "cell_type": "code",
   "execution_count": 4,
   "metadata": {
    "ExecuteTime": {
     "end_time": "2021-06-28T07:41:44.223936Z",
     "start_time": "2021-06-28T07:41:19.708797Z"
    }
   },
   "outputs": [
    {
     "name": "stdout",
     "output_type": "stream",
     "text": [
      "counting the number of images\n"
     ]
    },
    {
     "name": "stderr",
     "output_type": "stream",
     "text": [
      "\r",
      "  0%|          | 0/6 [00:00<?, ?it/s]"
     ]
    },
    {
     "name": "stdout",
     "output_type": "stream",
     "text": [
      "number of images: 453\n",
      "testing FPS\n"
     ]
    },
    {
     "name": "stderr",
     "output_type": "stream",
     "text": [
      "100%|██████████| 6/6 [00:21<00:00,  3.63s/it]"
     ]
    },
    {
     "name": "stdout",
     "output_type": "stream",
     "text": [
      "Number of img processed： 2718\n",
      "Second used： 21.772586\n",
      "Fps: 124.83588306873607\n"
     ]
    },
    {
     "name": "stderr",
     "output_type": "stream",
     "text": [
      "\n"
     ]
    }
   ],
   "source": [
    "FPS_test(model_trained,\n",
    "         test_fps_Dataloader,\n",
    "         pixel_coordinates,\n",
    "         test_epoch=6,\n",
    "         fliter_theshold=0.5,\n",
    "         scores_theshold=0,\n",
    "         nms_theshold=0.5,\n",
    "         nms_saved_images_num = 20,\n",
    "         get_score=False)"
   ]
  },
  {
   "cell_type": "markdown",
   "metadata": {},
   "source": [
    "## show_visual_pic"
   ]
  },
  {
   "cell_type": "code",
   "execution_count": 8,
   "metadata": {
    "ExecuteTime": {
     "end_time": "2021-06-28T07:45:21.817893Z",
     "start_time": "2021-06-28T07:45:21.788889Z"
    }
   },
   "outputs": [],
   "source": [
    "import numpy as np\n",
    "import math\n",
    "from PIL import Image, ImageDraw, ImageFont \n",
    "class draw_bbox:\n",
    "    def __init__(self,img,bbox,label,width = 7,ffill='red'):\n",
    "        self.img = img\n",
    "        self.bbox = bbox\n",
    "        self.label = label\n",
    "        self.width = width\n",
    "        self.ffill = ffill\n",
    "    def __len__(self,):\n",
    "        return len(self.bbox)\n",
    "    def __rotate__(self,x,y,width,height,st):\n",
    "        cosA = math.cos(st)\n",
    "        sinA = math.sin(st)\n",
    "        x1=x-0.5*width\n",
    "        y1=y-0.5*height\n",
    "        x0=x+0.5*width\n",
    "        y0=y1\n",
    "        x2=x1\n",
    "        y2=y+0.5*height\n",
    "        x3=x0\n",
    "        y3=y2\n",
    "        x0n= (x0 -x)*cosA -(y0 - y)*sinA + x\n",
    "        y0n = (x0-x)*sinA + (y0 - y)*cosA + y\n",
    "        x1n= (x1 -x)*cosA -(y1 - y)*sinA + x\n",
    "        y1n = (x1-x)*sinA + (y1 - y)*cosA + y\n",
    "        x2n= (x2 -x)*cosA -(y2 - y)*sinA + x\n",
    "        y2n = (x2-x)*sinA + (y2 - y)*cosA + y\n",
    "        x3n= (x3 -x)*cosA -(y3 - y)*sinA + x\n",
    "        y3n = (x3-x)*sinA + (y3 - y)*cosA + y\n",
    "        return x0n,y0n,x1n,y1n,x2n,y2n,x3n,y3n\n",
    "    def get_bbox_img(self):\n",
    "        self.img = Image.fromarray(self.img.astype('uint8')).convert('RGB')\n",
    "        draw = ImageDraw.Draw(self.img)\n",
    "        font_ = ImageFont.truetype('arialuni.ttf',20)\n",
    "        for i in range(self.__len__()):\n",
    "            x0n,y0n,x1n,y1n,x2n,y2n,x3n,y3n = self.__rotate__(self.bbox[i,0],self.bbox[i,1],\n",
    "                                                         self.bbox[i,2],self.bbox[i,3],self.bbox[i,4])\n",
    "            rand_color = int(np.random.rand(1)*255)\n",
    "            draw.line([(x0n,y0n),(x1n,y1n),(x2n,y2n),(x3n,y3n),(x0n,y0n)],width=self.width,fill=self.ffill)\n",
    "#             draw.text((x1n,y1n),str(self.label),font = font_,ffill=self.ffill)\n",
    "        self.img = np.array(self.img)\n",
    "        return self.img"
   ]
  },
  {
   "cell_type": "code",
   "execution_count": 9,
   "metadata": {
    "ExecuteTime": {
     "end_time": "2021-06-28T07:45:22.498434Z",
     "start_time": "2021-06-28T07:45:22.449394Z"
    }
   },
   "outputs": [],
   "source": [
    "def imshow_prediction(trained_model, dataset, data_index, pixel_coordinates, center_theshold = 0.7, scores_theshold = 0.7,num_theshold = 0.7, correct_num = 2, get_score = False, img_size = [2,2], width_drawbbox = 7,show_all = False, show_prediction = False, draw_gt = True):\n",
    "    if correct_num <1:\n",
    "        print('correct_num need to be more than 1')\n",
    "        return\n",
    "    \n",
    "    data = dataset[data_index]\n",
    "    ori_img = data[0].astype('int')\n",
    "    img = data[1]\n",
    "    bboxes = data[2]\n",
    "    bboxes_count = data[3]\n",
    "    id_ = data[4]\n",
    "    bodies, centers, boxes, scores = data[5], data[6][0], data[7][0], data[8]\n",
    "    H,W = data[9]\n",
    "    o_H,o_W = 512,512\n",
    "    \n",
    "#     H = json_data['images'][data_index]['height']\n",
    "#     W = json_data['images'][data_index]['width']\n",
    "#     id_ = json_data['images'][data_index]['file_name'].split('.')[0]\n",
    "    #show_image\n",
    "#     img_plt = img.transpose(1,2,0)\n",
    "#     img_plt = (((img_plt - np.min(img_plt))/(np.max(img_plt)-np.min(img_plt)))*255).astype('int')\n",
    "    # plt.figure(figsize=(10,10))\n",
    "    \n",
    "    if show_all:\n",
    "        plt.imshow(ori_img)\n",
    "        plt.show()\n",
    "\n",
    "    img_prediction = torch.FloatTensor(img).unsqueeze(0)\n",
    "    mask,features= trained_model.cuda()(img_prediction.cuda())\n",
    "    mask = mask.cpu().detach().numpy()\n",
    "    if show_all:\n",
    "        plt.imshow(mask[0,0,:,:])\n",
    "        plt.show()\n",
    "        plt.imshow(mask[0,1,:,:])\n",
    "        plt.show()\n",
    "    \n",
    "    mask = torch.FloatTensor(mask).cuda()\n",
    "    mm = (mask[0,1]>center_theshold).float()\n",
    "    xx = (((features[0,5].detach().float())+pixel_coordinates[:,:,0])/4)\n",
    "    yy = (((features[0,6].detach().float())+pixel_coordinates[:,:,1])/4)\n",
    "    xx = (xx*(xx<128).float()*(xx>0).float()* mm).long()\n",
    "    yy = (yy*(yy<128).float()*(yy>0).float()* mm).long()\n",
    "    rr = torch.zeros(128,128)\n",
    "    rr[yy,xx] +=1\n",
    "    rr[0,0]=0\n",
    "    if show_all:\n",
    "        plt.imshow(rr)\n",
    "        plt.show()\n",
    "    if 1-get_score:\n",
    "        for i in range(correct_num-1):\n",
    "            mm = (rr==1).float().cuda()\n",
    "            xx = (((features[0,5].detach().float())+pixel_coordinates[:,:,0])/4)\n",
    "            yy = (((features[0,6].detach().float())+pixel_coordinates[:,:,1])/4)\n",
    "            xx = (xx*(xx<128).float()*(xx>0).float()* mm).long()\n",
    "            yy = (yy*(yy<128).float()*(yy>0).float()* mm).long()\n",
    "            rr = torch.zeros(128,128)\n",
    "            rr[yy,xx] = 1\n",
    "            rr[0,0]=0\n",
    "            if show_all:\n",
    "                plt.imshow(rr)\n",
    "                plt.show()\n",
    "    else:\n",
    "        for i in range(correct_num-1):\n",
    "            if i ==0 :\n",
    "                score_rr = mask[0,0]\n",
    "            else:\n",
    "                score_rr = rr\n",
    "            ss = torch.sum((rr>0).float()).int()\n",
    "            xx = (((features[0,5].round().detach().float())+pixel_coordinates[:,:,0])/4)\n",
    "            yy = (((features[0,6].round().detach().float())+pixel_coordinates[:,:,1])/4)\n",
    "            resl = torch.cat((xx.unsqueeze(2),yy.unsqueeze(2),score_rr.unsqueeze(2)),2)\n",
    "            mass = (resl[:,:,:2]<128).float()*(resl[:,:,:2]>0).float()\n",
    "            resl = (resl*(mass[:,:,0]*mass[:,:,1]*(rr>0).float().cuda()).unsqueeze(2)).view(-1,3)\n",
    "            resl = resl[torch.argsort(resl[:,0],descending=True)]\n",
    "            rr = np.zeros((128,128))\n",
    "            for l in resl[:ss]:\n",
    "                if rr[l[1].long(),l[0].long()] < l[2]:\n",
    "                    rr[l[1].long(),l[0].long()] = l[2]\n",
    "            rr = torch.tensor(rr).cuda().float()\n",
    "            if show_all:\n",
    "                plt.imshow(rr.cpu())\n",
    "                plt.show()\n",
    "    \n",
    "    f = []\n",
    "    f.append(pixel_coordinates[:,:,0]+features[0,0,:,:])\n",
    "    f.append(pixel_coordinates[:,:,1]+features[0,1,:,:])\n",
    "    f.append(features[0,2,:,:])\n",
    "    f.append(features[0,3,:,:])\n",
    "    f.append(features[0,4,:,:])\n",
    "    f.append(rr.cuda())\n",
    "    f = torch.stack(f).permute(1,2,0).view(-1,6)\n",
    "    ll = f[torch.argsort(f[:,5])]\n",
    "    if torch.sum(ll[:,5]>scores_theshold)>0:\n",
    "        ll = ll[-torch.sum(ll[:,5]>scores_theshold):]\n",
    "        boxes = ll[:,:6].detach().cpu().numpy()\n",
    "        keep = rotate_gpu_nms(np.array(ll.detach().cpu()),num_theshold)\n",
    "        result = keep[:20]\n",
    "    else :\n",
    "        result = []\n",
    "\n",
    "    img_draw = ori_img\n",
    "    print(\"The number of detected bounding boxes:\",len(result))\n",
    "    for i in range(len(result)):\n",
    "        bb = np.zeros((5))\n",
    "        prew = boxes[result[i]][2]\n",
    "        preh = boxes[result[i]][3]\n",
    "        prex = boxes[result[i]][0]\n",
    "        prey = boxes[result[i]][1]\n",
    "        prest = boxes[result[i]][4]\n",
    "        prescore = boxes[result[i]][5]\n",
    "        print('predicted bbox:','x:',round(prex, 2),'y:',round(prey, 2),'w:',round(prew, 2),'h:',round(preh, 2),'theta:',round(prest, 2), 'scores',round(prescore, 2))\n",
    "        bb[:] = prex,prey,prew,preh,prest\n",
    "        gg = bb[np.newaxis,:]\n",
    "        \n",
    "        gg = resize_bbox(gg, (o_H, o_W), (H, W))\n",
    "        \n",
    "        img_draw = draw_bbox(img_draw,gg,str(round(prescore, 2)),width_drawbbox,'yellow').get_bbox_img()\n",
    "\n",
    "    boxv = bboxes[:bboxes_count][:,:5]\n",
    "    if draw_gt:\n",
    "        print(\"The number of real bounding boxes:\",bboxes_count)\n",
    "        for i in range(bboxes_count):\n",
    "            boxvi = boxv[i]\n",
    "            bb = np.zeros((5))\n",
    "            prew = boxvi[2]\n",
    "            preh = boxvi[3]\n",
    "            prex = boxvi[0]\n",
    "            prey = boxvi[1]\n",
    "            prest = boxvi[4]\n",
    "            print('Gt bbox:','x:',round(prex, 2),'y:',round(prey, 2),'w:',round(prew, 2),'h:',round(preh, 2),'theta:',round(prest,2),'scores',round(1.00, 2))\n",
    "            bb[:] = prex,prey,prew,preh,prest\n",
    "            gg = bb[np.newaxis,:]\n",
    "            img_draw = draw_bbox(img_draw,gg,'',width_drawbbox,'green').get_bbox_img()\n",
    "    if show_prediction:\n",
    "        plt.figure(figsize=img_size)\n",
    "        plt.imshow(img_draw)\n",
    "        plt.show()\n",
    "\n",
    "    plt.imsave('predicted_results/'+id_+'.jpg', img_draw.astype(np.uint8))\n"
   ]
  },
  {
   "cell_type": "code",
   "execution_count": null,
   "metadata": {
    "ExecuteTime": {
     "end_time": "2021-06-28T07:49:59.940028Z",
     "start_time": "2021-06-28T07:49:55.367290Z"
    }
   },
   "outputs": [],
   "source": [
    "testDataset_real = TestDataset_real(region_side_length,data_dir, split='test') #test dateset without resize_bbox\n",
    "tes_realDataloader = DataLoader(testDataset_real, 1, shuffle=False,\n",
    "                                               num_workers=8, pin_memory=True)\n",
    "\n",
    "# imshow_label(test_dataset, 1, label_show = [1,1,1,1])\n",
    "for i in tqdm(range(tes_realDataloader.__len__())):\n",
    "    imshow_prediction(model_trained,\n",
    "                      testDataset_real,\n",
    "                      i,\n",
    "                      pixel_coordinates,\n",
    "                      center_theshold=0.5,\n",
    "                      scores_theshold=0.1,\n",
    "                      num_theshold = 0.5,\n",
    "                      correct_num=2,\n",
    "                      get_score=True,\n",
    "                      img_size=[10,10],\n",
    "                      width_drawbbox = 15,\n",
    "                      show_all = False, \n",
    "                      show_prediction = False, \n",
    "                      draw_gt = False\n",
    "                     )"
   ]
  },
  {
   "cell_type": "markdown",
   "metadata": {},
   "source": [
    "## mAP test"
   ]
  },
  {
   "cell_type": "code",
   "execution_count": 11,
   "metadata": {
    "ExecuteTime": {
     "end_time": "2021-06-28T07:45:34.562995Z",
     "start_time": "2021-06-28T07:45:34.511874Z"
    }
   },
   "outputs": [],
   "source": [
    "def Validate_FARN(model, epoch, tes_Dataloader, pixel_coordinates, Log_path, bestmap_07, bestmap_12,IOU_theshold = 0.5, fliter_theshold = 0.5, scores_theshold = 0, nms_theshold = 0.7, nms_saved_images_num = 20, plot_PR = False, if_relative_c = True):\n",
    "    '''♦♦♦♦♦♦♦♦♦♦Val♦♦♦♦♦♦♦♦♦♦'''\n",
    "    pred_bboxes, pred_labels, pred_scores = list(), list(), list()\n",
    "    gt_bboxes, gt_labels, gt_difficults = list(), list(), list()\n",
    "    for i,(ori_img, img,bboxes,bboxes_count,_,bodies, centers, boxes, scores, (H,W)) in enumerate(tqdm(tes_Dataloader,desc='val')):\n",
    "        img,bboxes,bboxes_count,bodies, centers, boxes, scores = img.cuda(),bboxes.cuda(),bboxes_count.cuda(),bodies.cuda(), centers.cuda(), boxes.cuda(), scores.cuda()\n",
    "        H,W = float(H),float(W)\n",
    "        o_H,o_W = 512,512\n",
    "        \n",
    "        mask,features = model(img)\n",
    "        mask,features = mask.detach(), features.detach()\n",
    "        \n",
    "        if if_relative_c:\n",
    "            pred_xy_fea_ = (features[0,5:7].round().float()+pixel_coordinates[:,:,0:2].permute(2,0,1))/4\n",
    "            pred_xy_fea_ = (pred_xy_fea_>127).float()*127 + pred_xy_fea_*(pred_xy_fea_<=127).float()\n",
    "            pred_xy_fea_ = pred_xy_fea_*(pred_xy_fea_>0).float()  \n",
    "        else:\n",
    "            pred_xy_fea_ = ((features[0,5:7].round().float())/4)\n",
    "            \n",
    "        mm = (mask[0,1]>fliter_theshold).float()\n",
    "        pred_xy_fea = pred_xy_fea_ * mm\n",
    "        pred_centers = torch.zeros(128,128).cuda()\n",
    "        pred_centers[pred_xy_fea[1].long(),pred_xy_fea[0].long()] = 1\n",
    "        pred_centers[0,0]=0\n",
    "\n",
    "        sum_centers = torch.sum(pred_centers).int()\n",
    "        resl = torch.cat((pred_xy_fea_[0].unsqueeze(2),pred_xy_fea_[1].unsqueeze(2),mask[0,0].unsqueeze(2)),2)\n",
    "        resl = (resl*(pred_centers).unsqueeze(2)).view(-1,3)\n",
    "        resl = resl[torch.argsort(resl[:,0],descending=True)]\n",
    "        \n",
    "        pred_centers = np.zeros((128,128))\n",
    "        for xyscore_pixel in resl[:sum_centers]:\n",
    "            if pred_centers[xyscore_pixel[1].long(),xyscore_pixel[0].long()] < xyscore_pixel[2]:\n",
    "                pred_centers[xyscore_pixel[1].long(),xyscore_pixel[0].long()] = xyscore_pixel[2]\n",
    "        pred_centers = torch.tensor(pred_centers).cuda().float()\n",
    "\n",
    "        Pr_bboxes = []\n",
    "        if if_relative_c:\n",
    "            Pr_bboxes.append(pixel_coordinates[:,:,0]+features[0,0,:,:])\n",
    "            Pr_bboxes.append(pixel_coordinates[:,:,1]+features[0,1,:,:])\n",
    "        else:\n",
    "            Pr_bboxes.append(features[0,0,:,:])\n",
    "            Pr_bboxes.append(features[0,1,:,:])\n",
    "        Pr_bboxes.append(features[0,2,:,:])\n",
    "        Pr_bboxes.append(features[0,3,:,:])\n",
    "        Pr_bboxes.append(features[0,4,:,:])\n",
    "        Pr_bboxes.append(pred_centers)\n",
    "        Pr_bboxes = torch.stack(Pr_bboxes).permute(1,2,0).view(-1,6)\n",
    "        Pr_bboxes = Pr_bboxes[torch.argsort(Pr_bboxes[:,5])] #sorting\n",
    "        Pr_bboxes = Pr_bboxes[-torch.sum(Pr_bboxes[:,5]>scores_theshold):] #selecting pixels\n",
    "        Pr_bboxes = resize_bbox(np.array(Pr_bboxes.cpu()), (o_H, o_W), (H, W))\n",
    "        Pr_bboxes = torch.FloatTensor(Pr_bboxes)\n",
    "        Pr_bboxes_ = Pr_bboxes.clone()\n",
    "        Pr_bboxes_[:, 5] = 1\n",
    "        \n",
    "        Gt_bboxes = np.array(bboxes[0,:bboxes_count,:5].cpu().unsqueeze(0))\n",
    "\n",
    "        if torch.sum(Pr_bboxes[:,5]>scores_theshold)!=0:\n",
    "            keep = rotate_gpu_nms(np.array(Pr_bboxes.cpu()),nms_theshold)\n",
    "            predicted_all_bboxes = Pr_bboxes[:,:6].cpu()\n",
    "            predicted_bboxes_id = keep[:nms_saved_images_num]\n",
    "            predicted_bboxes = np.array(predicted_all_bboxes[predicted_bboxes_id].cpu().unsqueeze(0))\n",
    "\n",
    "            pred_bboxes_ = list(predicted_bboxes[:,:,:5])\n",
    "            pred_labels_ = list(np.zeros((1,len(predicted_bboxes[0]))))\n",
    "            pred_scores_ = list(predicted_bboxes[:,:,5])\n",
    "        else:\n",
    "            preiou = np.zeros((0,0,0))\n",
    "            pred_bboxes_ =list(np.zeros((1,0,5)))\n",
    "            pred_labels_ = list(np.zeros((1,0)))\n",
    "            pred_scores_ = list(np.zeros((1,0)))\n",
    "\n",
    "        gt_bboxes += list(Gt_bboxes[:,:,:5])\n",
    "        gt_labels += list(np.zeros((1,len(Gt_bboxes[0]))))\n",
    "        gt_difficults += list(np.zeros((1,len(Gt_bboxes[0]))))\n",
    "        pred_bboxes += pred_bboxes_\n",
    "        pred_labels += pred_labels_\n",
    "        pred_scores += pred_scores_\n",
    "\n",
    "    #MAP VOC 07\n",
    "    result = eval_detection_voc(\n",
    "        pred_bboxes, pred_labels, pred_scores,\n",
    "        gt_bboxes, gt_labels, gt_difficults,\n",
    "        use_07_metric=True,iou_thresh = IOU_theshold)\n",
    "    MAP_07 = result[0]['map']\n",
    "    \n",
    "    #MAP VOC 12\n",
    "    result = eval_detection_voc(\n",
    "        pred_bboxes, pred_labels, pred_scores,\n",
    "        gt_bboxes, gt_labels, gt_difficults,\n",
    "        use_07_metric=False,iou_thresh = IOU_theshold)\n",
    "    MAP_12 = result[0]['map']\n",
    "\n",
    "    print(('Epoch:'+str(epoch)+'   07_MAP:'+str(MAP_07)+'   12_MAP:'+str(MAP_12)+'   Best07_Map:'+str(bestmap_07)+'   Best12_Map:'+str(bestmap_12)+'\\n'))\n",
    "#     f = open(Log_path,'a')\n",
    "#     f.write('Epoch:'+str(epoch)+'   07_MAP:'+str(MAP_07)+'   12_MAP:'+str(MAP_12)+'   Best07_Map:'+str(bestmap_07)+'   Best12_Map:'+str(bestmap_12)+'\\n')\n",
    "#     f.close()\n",
    "    if plot_PR:\n",
    "        PR = np.zeros((len(list(result[1][0])),2))\n",
    "        PR[:,0] = np.array(list(result[1][0]))\n",
    "        PR[:,1] = np.array(list(result[2][0]))\n",
    "        PR = PR[PR[:,1].argsort()] \n",
    "        for i in tqdm(range(len(list(result[1][0])))):\n",
    "            for ii in range(i):\n",
    "                if PR[ii,0]<PR[i,0]:\n",
    "                    PR[ii,0]=PR[i,0]\n",
    "        fig = plt.figure()\n",
    "        ax = fig.add_subplot(111)\n",
    "        ax.set(xlim=[0, 1], ylim=[0, 1], title='PR',\n",
    "               ylabel='Percision', xlabel='Recall')\n",
    "        plot1 = plt.plot(PR[:,1], PR[:,0], 'r',label='original values')\n",
    "        plt.show()\n",
    "    return MAP_07, MAP_12"
   ]
  },
  {
   "cell_type": "code",
   "execution_count": 13,
   "metadata": {
    "ExecuteTime": {
     "end_time": "2021-06-28T07:49:25.567244Z",
     "start_time": "2021-06-28T07:49:12.653000Z"
    }
   },
   "outputs": [
    {
     "name": "stderr",
     "output_type": "stream",
     "text": [
      " 17%|█▋        | 22/128 [00:00<00:00, 212.89it/s]"
     ]
    },
    {
     "name": "stdout",
     "output_type": "stream",
     "text": [
      "pixel_coordinates constructing\n"
     ]
    },
    {
     "name": "stderr",
     "output_type": "stream",
     "text": [
      "100%|██████████| 128/128 [00:00<00:00, 227.27it/s]\n",
      "val: 100%|██████████| 453/453 [00:11<00:00, 39.46it/s]\n"
     ]
    },
    {
     "name": "stdout",
     "output_type": "stream",
     "text": [
      "Epoch:0   07_MAP:0.8946448698795642   12_MAP:0.8918846144473693   Best07_Map:0   Best12_Map:0\n",
      "\n"
     ]
    },
    {
     "data": {
      "text/plain": [
       "(0.8946448698795642, 0.8918846144473693)"
      ]
     },
     "execution_count": 13,
     "metadata": {},
     "output_type": "execute_result"
    }
   ],
   "source": [
    "# load trained model\n",
    "model_trained = FARN(resnet_type='resnet34', boxes_dx_dy = 4 * region_side_length).cuda()\n",
    "model_trained.load_state_dict(torch.load('checkpoints_34/g1_FARN_region4_0.5_34_07map_0.8946_date_20210316_04_33_36'))\n",
    "model_trained.eval()\n",
    "\n",
    "testDataset_real = TestDataset_real(region_side_length,data_dir, split='test') #test dateset without resize_bbox\n",
    "tes_realDataloader = DataLoader(testDataset_real, 1, shuffle=False,\n",
    "                                               num_workers=8, pin_memory=True)\n",
    "\n",
    "pixel_coordinates = torch.zeros(128,128,2).cuda()\n",
    "print('pixel_coordinates constructing')\n",
    "for i in tqdm(range(128)):\n",
    "    for ii in range(128):\n",
    "        pixel_coordinates[i,ii,:] = torch.tensor([ii,i])*4\n",
    "\n",
    "\n",
    "Validate_FARN(model_trained,\n",
    "               0,\n",
    "               tes_realDataloader,\n",
    "               pixel_coordinates,\n",
    "               0,\n",
    "               0,\n",
    "               0,\n",
    "               fliter_theshold=0.5,\n",
    "               scores_theshold=0,\n",
    "               nms_theshold=0.5,\n",
    "               nms_saved_images_num=20,\n",
    "               plot_PR=False,\n",
    "              )"
   ]
  }
 ],
 "metadata": {
  "kernelspec": {
   "display_name": "Python 3",
   "language": "python",
   "name": "python3"
  },
  "language_info": {
   "codemirror_mode": {
    "name": "ipython",
    "version": 3
   },
   "file_extension": ".py",
   "mimetype": "text/x-python",
   "name": "python",
   "nbconvert_exporter": "python",
   "pygments_lexer": "ipython3",
   "version": "3.7.7"
  },
  "toc": {
   "base_numbering": 1,
   "nav_menu": {},
   "number_sections": true,
   "sideBar": true,
   "skip_h1_title": false,
   "title_cell": "Table of Contents",
   "title_sidebar": "Contents",
   "toc_cell": false,
   "toc_position": {},
   "toc_section_display": true,
   "toc_window_display": false
  }
 },
 "nbformat": 4,
 "nbformat_minor": 4
}
