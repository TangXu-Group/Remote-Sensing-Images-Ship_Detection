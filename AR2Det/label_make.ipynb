{
 "cells": [
  {
   "cell_type": "code",
   "execution_count": 1,
   "metadata": {
    "ExecuteTime": {
     "end_time": "2021-06-28T07:46:15.001183Z",
     "start_time": "2021-06-28T07:46:13.877798Z"
    }
   },
   "outputs": [],
   "source": [
    "import torch\n",
    "import torch.nn as nn\n",
    "import torchvision\n",
    "import numpy as np\n",
    "import matplotlib.pyplot as plt\n",
    "from tqdm import tqdm\n",
    "import cv2\n",
    "import os\n",
    "import time\n",
    "from data_utils.Dataset import Dataset,TestDataset,ValDataset,All\n",
    "\n",
    "os.environ['CUDA_VISIBLE_DEVICES'] = '1'\n",
    "data_dir= 'HRSC2016/'"
   ]
  },
  {
   "cell_type": "code",
   "execution_count": 2,
   "metadata": {
    "ExecuteTime": {
     "end_time": "2021-06-28T07:46:16.973712Z",
     "start_time": "2021-06-28T07:46:16.941464Z"
    }
   },
   "outputs": [],
   "source": [
    "def make_bodies_label(use_dataset, size, static_pixel_1ocation, center_size = [5,5], shrink_ratio = 0.7,D_c = 4):\n",
    "    print('bodies_label constructing:')\n",
    "    time.sleep(0.5)\n",
    "    dynamic_pixel_1ocation = torch.zeros(size,size,2)\n",
    "    for index in tqdm(range(use_dataset.__len__())):\n",
    "        data = use_dataset[index]\n",
    "        bboxes = torch.tensor(data[1])\n",
    "        data_id = data[3]\n",
    "\n",
    "        bboxes_count = data[2] #bbox 数量\n",
    "        m=torch.zeros(size,size) #mask\n",
    "\n",
    "        for bbox_id in range(bboxes_count):\n",
    "            bbox_x,bbox_y,bbox_w,bbox_h = bboxes[bbox_id,:4]/(512/size)\n",
    "            bbox_theta = bboxes[bbox_id,4]\n",
    "\n",
    "            dynamic_pixel_1ocation[:,:,:] = static_pixel_1ocation[:,:,:]\n",
    "            dynamic_pixel_1ocation[:,:,0:2] = dynamic_pixel_1ocation[:,:,0:2]-torch.Tensor([bbox_x,bbox_y]).round()\n",
    "            X = dynamic_pixel_1ocation[:,:,0]*np.cos(bbox_theta).float() + dynamic_pixel_1ocation[:,:,1]*np.sin(bbox_theta).float()\n",
    "            Y = dynamic_pixel_1ocation[:,:,1]*np.cos(bbox_theta).float() - dynamic_pixel_1ocation[:,:,0]*np.sin(bbox_theta).float()\n",
    "            dynamic_pixel_1ocation[:,:,0] = X[:,:]\n",
    "            dynamic_pixel_1ocation[:,:,1] = Y[:,:]\n",
    "\n",
    "            rm = (m==0).float()\n",
    "            \n",
    "            #for masking ship boxes prediction\n",
    "            m1 = dynamic_pixel_1ocation[:,:,0]<np.min((center_size[0]/2,(bbox_w/2).float()))\n",
    "            m2 = dynamic_pixel_1ocation[:,:,0]>-np.min((center_size[0]/2,(bbox_w/2).float()))\n",
    "            m3 = dynamic_pixel_1ocation[:,:,1]<np.min((center_size[1]/2,(bbox_h/2).float()))\n",
    "            m4 = dynamic_pixel_1ocation[:,:,1]>-np.min((center_size[1]/2,(bbox_h/2).float()))\n",
    "            m += (m1*m2*m3*m4).float()\n",
    "            #for masking ship bodies prediction\n",
    "            m1 = dynamic_pixel_1ocation[:,:,0]<(bbox_w/2).float()*shrink_ratio\n",
    "            m2 = dynamic_pixel_1ocation[:,:,0]>-(bbox_w/2).float()*shrink_ratio\n",
    "            m3 = dynamic_pixel_1ocation[:,:,1]<(bbox_h/2).float()*shrink_ratio\n",
    "            m4 = dynamic_pixel_1ocation[:,:,1]>-(bbox_h/2).float()*shrink_ratio\n",
    "            m += (m1*m2*m3*m4).float()*rm\n",
    "\n",
    "            #for masking ship centers prediction\n",
    "            m1 = dynamic_pixel_1ocation[:,:,0]<(bbox_w/2).float()\n",
    "            m2 = dynamic_pixel_1ocation[:,:,0]>-(bbox_w/2).float()\n",
    "            m3 = dynamic_pixel_1ocation[:,:,1]<(bbox_h/2).float()\n",
    "            m4 = dynamic_pixel_1ocation[:,:,1]>-(bbox_h/2).float()\n",
    "            m += (m1*m2*m3*m4).float()*rm\n",
    "\n",
    "        if torch.max(m)!=0:\n",
    "            m = m/torch.max(m)\n",
    "#         plt.imshow(m)\n",
    "#         plt.show()\n",
    "        np.save('HRSC2016/Labels'+str(D_c)+'/bodies/'+data_id+'.npy',(m).float())"
   ]
  },
  {
   "cell_type": "code",
   "execution_count": 4,
   "metadata": {
    "ExecuteTime": {
     "end_time": "2021-06-28T07:46:24.873019Z",
     "start_time": "2021-06-28T07:46:24.845389Z"
    }
   },
   "outputs": [],
   "source": [
    "#two points\n",
    "def make_centers_label(use_dataset, size, static_pixel_1ocation, shrink_ratio = 1,D_c = 4):\n",
    "    print('centers_label constructing:')\n",
    "    time.sleep(0.5)\n",
    "    dynamic_pixel_1ocation = torch.zeros(size,size,2)\n",
    "    dynamic_bboxes_label = torch.zeros(5,size,size)\n",
    "    for index in tqdm(range(use_dataset.__len__())):\n",
    "        data = use_dataset[index]\n",
    "        bboxes = torch.tensor(data[1])\n",
    "        data_id = data[3]\n",
    "        \n",
    "        bboxes_count = data[2] #bbox 数量\n",
    "        m=torch.zeros(size,size) #mask\n",
    "\n",
    "        if (bboxes_count)>0 :\n",
    "            bboxes[:,:4] = bboxes[:,:4]/(512/size)\n",
    "            static_bboxes_label = torch.zeros(5,size ,size )\n",
    "            for bbox_id in range(bboxes_count):\n",
    "                bbox_x,bbox_y,bbox_w,bbox_h = bboxes[bbox_id,:4]\n",
    "                bbox_theta = bboxes[bbox_id,4]\n",
    "\n",
    "                dynamic_pixel_1ocation[:,:,:] = static_pixel_1ocation[:,:,:]\n",
    "                dynamic_pixel_1ocation[:,:,0:2] = dynamic_pixel_1ocation[:,:,0:2]-torch.Tensor([bbox_x,bbox_y]).round()\n",
    "                X = dynamic_pixel_1ocation[:,:,0]*np.cos(bbox_theta).float() + dynamic_pixel_1ocation[:,:,1]*np.sin(bbox_theta).float()\n",
    "                Y = dynamic_pixel_1ocation[:,:,1]*np.cos(bbox_theta).float() - dynamic_pixel_1ocation[:,:,0]*np.sin(bbox_theta).float()\n",
    "                dynamic_pixel_1ocation[:,:,0] = X[:,:]\n",
    "                dynamic_pixel_1ocation[:,:,1] = Y[:,:]\n",
    "\n",
    "                m1 = dynamic_pixel_1ocation[:,:,0]<(bbox_w/2).float()*shrink_ratio\n",
    "                m2 = dynamic_pixel_1ocation[:,:,0]>-(bbox_w/2).float()*shrink_ratio\n",
    "                m3 = dynamic_pixel_1ocation[:,:,1]<(bbox_h/2).float()*shrink_ratio\n",
    "                m4 = dynamic_pixel_1ocation[:,:,1]>-(bbox_h/2).float()*shrink_ratio\n",
    "                m += (m1*m2*m3*m4).float()\n",
    "\n",
    "                for parameter in range(4):\n",
    "                    dynamic_bboxes_label[parameter,:,:] = bboxes[bbox_id,parameter]*(512/size)\n",
    "                dynamic_bboxes_label[4,:,:] = bboxes[bbox_id,4]\n",
    "\n",
    "                static_bboxes_label += (m1*m2*m3*m4).float() * dynamic_bboxes_label[:,:,:] * (m==1).float()\n",
    "\n",
    "            static_bboxes_label = static_bboxes_label+(static_bboxes_label==0).float() #0------->1\n",
    "        else :\n",
    "            static_bboxes_label = torch.ones(5,size,size) #0------->1\n",
    "#         plt.imshow(static_bboxes_label[0])\n",
    "#         plt.show()\n",
    "        np.save('HRSC2016/Labels'+str(D_c)+'/centers/'+data_id+'.npy',static_bboxes_label)"
   ]
  },
  {
   "cell_type": "code",
   "execution_count": 5,
   "metadata": {
    "ExecuteTime": {
     "end_time": "2021-06-28T07:46:26.922641Z",
     "start_time": "2021-06-28T07:46:26.893847Z"
    }
   },
   "outputs": [],
   "source": [
    "def make_boxes_label(use_dataset, size, static_pixel_1ocation, center_size = [5,5],D_c = 4):\n",
    "    print('boxes_label constructing:')\n",
    "    time.sleep(0.5)\n",
    "    dynamic_pixel_1ocation = torch.zeros(size,size,2)\n",
    "    dynamic_bboxes_label = torch.zeros(5,size,size)\n",
    "    for index in tqdm(range(use_dataset.__len__())):\n",
    "        data = use_dataset[index]\n",
    "        bboxes = torch.tensor(data[1])\n",
    "        data_id = data[3]\n",
    "\n",
    "        bboxes_count = data[2] #bboxes 数量\n",
    "        m=torch.zeros(size,size) #mask\n",
    "\n",
    "        if (bboxes_count)>0 :\n",
    "            bboxes[:,:4] = bboxes[:,:4]/(512/size)\n",
    "            static_bboxes_label = torch.zeros(5,size ,size )\n",
    "            for bbox_id in range(bboxes_count):\n",
    "                bbox_x,bbox_y,bbox_w,bbox_h = bboxes[bbox_id,:4]\n",
    "                bbox_theta = bboxes[bbox_id,4]\n",
    "\n",
    "                dynamic_pixel_1ocation[:,:,:] = static_pixel_1ocation[:,:,:]\n",
    "                dynamic_pixel_1ocation[:,:,0:2] = dynamic_pixel_1ocation[:,:,0:2]-torch.Tensor([bbox_x,bbox_y]).round()\n",
    "                X = dynamic_pixel_1ocation[:,:,0]*np.cos(bbox_theta).float() + dynamic_pixel_1ocation[:,:,1]*np.sin(bbox_theta).float()\n",
    "                Y = dynamic_pixel_1ocation[:,:,1]*np.cos(bbox_theta).float() - dynamic_pixel_1ocation[:,:,0]*np.sin(bbox_theta).float()\n",
    "                dynamic_pixel_1ocation[:,:,0] = X[:,:]\n",
    "                dynamic_pixel_1ocation[:,:,1] = Y[:,:]\n",
    "                m1 = dynamic_pixel_1ocation[:,:,0]<np.min((center_size[0]/2,(bbox_w/2).float()))\n",
    "                m2 = dynamic_pixel_1ocation[:,:,0]>-np.min((center_size[0]/2,(bbox_w/2).float()))\n",
    "                m3 = dynamic_pixel_1ocation[:,:,1]<np.min((center_size[1]/2,(bbox_h/2).float()))\n",
    "                m4 = dynamic_pixel_1ocation[:,:,1]>-np.min((center_size[1]/2,(bbox_h/2).float()))\n",
    "                m += (m1*m2*m3*m4).float()\n",
    "                \n",
    "                for parameter in range(4):\n",
    "                    dynamic_bboxes_label[parameter,:,:] = bboxes[bbox_id,parameter]*(512/size)\n",
    "                dynamic_bboxes_label[4,:,:] = bboxes[bbox_id,4]\n",
    "\n",
    "                static_bboxes_label += (m1*m2*m3*m4).float() * dynamic_bboxes_label[:,:,:] * (m==1).float()\n",
    "\n",
    "            static_bboxes_label = static_bboxes_label+(static_bboxes_label==0).float() #0------->1\n",
    "        else :\n",
    "            static_bboxes_label = torch.ones(5,size,size) #0------->1\n",
    "\n",
    "        np.save('HRSC2016/Labels'+str(D_c)+'/boxes/'+data_id+'.npy',static_bboxes_label)"
   ]
  },
  {
   "cell_type": "code",
   "execution_count": 6,
   "metadata": {
    "ExecuteTime": {
     "end_time": "2021-06-28T07:46:27.957194Z",
     "start_time": "2021-06-28T07:46:27.929425Z"
    }
   },
   "outputs": [],
   "source": [
    "def make_scores_label(use_dataset, size, static_pixel_1ocation,center_size = [5,5],D_c = 4):\n",
    "    print('scores_label constructing:')\n",
    "    time.sleep(0.5)\n",
    "    dynamic_pixel_1ocation = torch.zeros(size,size,2)\n",
    "    for index in tqdm(range(use_dataset.__len__())):\n",
    "        data = use_dataset[index]\n",
    "        bboxes = torch.tensor(data[1])\n",
    "        data_id = data[3]\n",
    "\n",
    "        bboxes_count = data[2] #bbox 数量\n",
    "        m=torch.zeros(size,size) #mask\n",
    "\n",
    "        for bbox_id in range(bboxes_count):\n",
    "            bbox_x,bbox_y,bbox_w,bbox_h = bboxes[bbox_id,:4]/(512/size)\n",
    "            bbox_theta = bboxes[bbox_id,4]\n",
    "\n",
    "            dynamic_pixel_1ocation[:,:,:] = static_pixel_1ocation[:,:,:]\n",
    "            dynamic_pixel_1ocation[:,:,0:2] = dynamic_pixel_1ocation[:,:,0:2]-torch.Tensor([bbox_x,bbox_y]).round()\n",
    "            X = dynamic_pixel_1ocation[:,:,0]*np.cos(bbox_theta).float() + dynamic_pixel_1ocation[:,:,1]*np.sin(bbox_theta).float()\n",
    "            Y = dynamic_pixel_1ocation[:,:,1]*np.cos(bbox_theta).float() - dynamic_pixel_1ocation[:,:,0]*np.sin(bbox_theta).float()\n",
    "            dynamic_pixel_1ocation[:,:,0] = X[:,:]\n",
    "            dynamic_pixel_1ocation[:,:,1] = Y[:,:]\n",
    "\n",
    "            rm = (m==0).float()\n",
    "            \n",
    "#             expansion_steps = int(bbox_w/2 - (center_size[0]/2))\n",
    "            expansion_steps = 30\n",
    "            m_=torch.zeros(size,size)\n",
    "            for long in range(expansion_steps+1):\n",
    "                stridew = (bbox_w/2 - (center_size[0]/2))/expansion_steps\n",
    "                strideh = (bbox_h/2 - (center_size[1]/2))/expansion_steps\n",
    "                f1 = stridew * long\n",
    "                f2 = strideh * long\n",
    "                if bbox_w/2 <=center_size[0]/2:\n",
    "                    f1 = 1\n",
    "                if bbox_h/2 <=center_size[1]/2:\n",
    "                    f2 = 1\n",
    "                m1 = dynamic_pixel_1ocation[:,:,0]<= (bbox_w/2).float()-f1\n",
    "                m2 = dynamic_pixel_1ocation[:,:,0]>= -(bbox_w/2).float()+f1\n",
    "                m3 = dynamic_pixel_1ocation[:,:,1]<= (bbox_h/2).float()-f2\n",
    "                m4 = dynamic_pixel_1ocation[:,:,1]>= -(bbox_h/2).float()+f2\n",
    "                m_ += (m1*m2*m3*m4).float()\n",
    "            if torch.max(m_)!=0:\n",
    "                m_ = m_/torch.max(m_)\n",
    "            m += m_*rm\n",
    "#         plt.imshow(m)\n",
    "#         plt.show()\n",
    "        np.save('HRSC2016/Labels'+str(D_c)+'/scores/'+data_id+'.npy',(m).float())"
   ]
  },
  {
   "cell_type": "code",
   "execution_count": 7,
   "metadata": {
    "ExecuteTime": {
     "end_time": "2021-06-28T07:49:11.010959Z",
     "start_time": "2021-06-28T07:46:41.645995Z"
    }
   },
   "outputs": [
    {
     "name": "stdout",
     "output_type": "stream",
     "text": [
      "bodies_label constructing:\n"
     ]
    },
    {
     "name": "stderr",
     "output_type": "stream",
     "text": [
      "100%|██████████| 1070/1070 [00:28<00:00, 37.96it/s]\n"
     ]
    },
    {
     "name": "stdout",
     "output_type": "stream",
     "text": [
      "centers_label constructing:\n"
     ]
    },
    {
     "name": "stderr",
     "output_type": "stream",
     "text": [
      "100%|██████████| 1070/1070 [00:25<00:00, 41.19it/s]\n"
     ]
    },
    {
     "name": "stdout",
     "output_type": "stream",
     "text": [
      "boxes_label constructing:\n"
     ]
    },
    {
     "name": "stderr",
     "output_type": "stream",
     "text": [
      "100%|██████████| 1070/1070 [00:25<00:00, 41.17it/s]\n"
     ]
    },
    {
     "name": "stdout",
     "output_type": "stream",
     "text": [
      "scores_label constructing:\n"
     ]
    },
    {
     "name": "stderr",
     "output_type": "stream",
     "text": [
      "100%|██████████| 1070/1070 [01:06<00:00, 15.98it/s]\n"
     ]
    }
   ],
   "source": [
    "if __name__==\"__main__\":\n",
    "    D_c = 4\n",
    "    all_dataset = All(D_c,data_dir)\n",
    "    use_dataset = all_dataset  #the used dataset\n",
    "    label_size = 128  #label_size\n",
    "    \n",
    "    center_size = [D_c,D_c]\n",
    "    shrink_ratio_bodies = 0.7\n",
    "    shrink_ratio_centers = 1\n",
    "    \n",
    "    #initialize pixel's location\n",
    "    static_pixel_1ocation = torch.zeros(label_size,label_size,2)\n",
    "    for i in range(label_size):\n",
    "        for ii in range(label_size):\n",
    "            static_pixel_1ocation[i,ii,:] = torch.tensor([ii,i])\n",
    "\n",
    "    if 1-os.path.exists('./HRSC2016/Labels'+str(D_c)):\n",
    "        os.mkdir('./HRSC2016/Labels'+str(D_c))\n",
    "    if 1-os.path.exists('./HRSC2016/Labels'+str(D_c)+'/bodies'):\n",
    "        os.mkdir('./HRSC2016/Labels'+str(D_c)+'/bodies')\n",
    "    if 1-os.path.exists('./HRSC2016/Labels'+str(D_c)+'/centers'):\n",
    "        os.mkdir('./HRSC2016/Labels'+str(D_c)+'/centers')\n",
    "    if 1-os.path.exists('./HRSC2016/Labels'+str(D_c)+'/boxes'):\n",
    "        os.mkdir('./HRSC2016/Labels'+str(D_c)+'/boxes')\n",
    "    if 1-os.path.exists('./HRSC2016/Labels'+str(D_c)+'/scores'):\n",
    "        os.mkdir('./HRSC2016/Labels'+str(D_c)+'/scores')\n",
    "    \n",
    "    make_bodies_label(use_dataset, label_size, static_pixel_1ocation, center_size, shrink_ratio_bodies, D_c)\n",
    "    make_centers_label(use_dataset, label_size, static_pixel_1ocation, shrink_ratio_centers, D_c)\n",
    "    make_boxes_label(use_dataset, label_size, static_pixel_1ocation, center_size, D_c)\n",
    "    make_scores_label(use_dataset, label_size, static_pixel_1ocation,center_size, D_c)"
   ]
  },
  {
   "cell_type": "code",
   "execution_count": null,
   "metadata": {},
   "outputs": [],
   "source": []
  }
 ],
 "metadata": {
  "kernelspec": {
   "display_name": "Python 3",
   "language": "python",
   "name": "python3"
  },
  "language_info": {
   "codemirror_mode": {
    "name": "ipython",
    "version": 3
   },
   "file_extension": ".py",
   "mimetype": "text/x-python",
   "name": "python",
   "nbconvert_exporter": "python",
   "pygments_lexer": "ipython3",
   "version": "3.7.7"
  },
  "toc": {
   "base_numbering": 1,
   "nav_menu": {},
   "number_sections": true,
   "sideBar": true,
   "skip_h1_title": false,
   "title_cell": "Table of Contents",
   "title_sidebar": "Contents",
   "toc_cell": false,
   "toc_position": {},
   "toc_section_display": true,
   "toc_window_display": false
  }
 },
 "nbformat": 4,
 "nbformat_minor": 2
}
