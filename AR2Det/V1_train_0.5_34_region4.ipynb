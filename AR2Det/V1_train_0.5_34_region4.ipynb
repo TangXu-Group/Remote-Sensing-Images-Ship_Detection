{
 "cells": [
  {
   "cell_type": "code",
   "execution_count": 1,
   "metadata": {
    "ExecuteTime": {
     "end_time": "2021-06-28T07:52:26.584556Z",
     "start_time": "2021-06-28T07:52:24.487323Z"
    }
   },
   "outputs": [],
   "source": [
    "gpu_id = '1'\n",
    "resnet_type = '34'\n",
    "\n",
    "t = 0.5\n",
    "region_side_length = 4\n",
    "\n",
    "\n",
    "import warnings\n",
    "warnings.filterwarnings(\"ignore\")\n",
    "import os\n",
    "os.environ['CUDA_VISIBLE_DEVICES'] = gpu_id\n",
    "\n",
    "import torch\n",
    "import time\n",
    "from tqdm import tqdm\n",
    "\n",
    "from torch.utils.data import DataLoader\n",
    "from data_utils.Dataset import Dataset,TestDataset,ValDataset,Test_FPS_Dataset,TestDataset_real\n",
    "\n",
    "from tra_val.evaluation import *\n",
    "from tra_val.loss import *\n",
    "from tra_val.tra_val import *\n",
    "from model.FARN import FARN\n",
    "data_dir= 'HRSC2016/'"
   ]
  },
  {
   "cell_type": "code",
   "execution_count": 6,
   "metadata": {
    "ExecuteTime": {
     "end_time": "2021-06-28T07:55:40.672979Z",
     "start_time": "2021-06-28T07:55:39.540073Z"
    }
   },
   "outputs": [
    {
     "name": "stderr",
     "output_type": "stream",
     "text": [
      " 17%|█▋        | 22/128 [00:00<00:00, 214.31it/s]"
     ]
    },
    {
     "name": "stdout",
     "output_type": "stream",
     "text": [
      "pixel_coordinates constructing\n"
     ]
    },
    {
     "name": "stderr",
     "output_type": "stream",
     "text": [
      "100%|██████████| 128/128 [00:00<00:00, 226.33it/s]\n"
     ]
    }
   ],
   "source": [
    "train_batch_size = 8 # default:2\n",
    "test_batch_size = 1 # fixed:1\n",
    "val_batch_size = 1 # fixed:1\n",
    "fps_bath_size = 8 # default:1\n",
    "\n",
    "train_dataset = Dataset(region_side_length,data_dir) #train dataset with bbox\n",
    "tra_Dataloader = DataLoader(train_dataset, train_batch_size, shuffle=True,\n",
    "                                               num_workers=8, pin_memory=True)\n",
    "\n",
    "test_dataset = TestDataset(region_side_length,data_dir) #test dataset with bbox\n",
    "tes_Dataloader = DataLoader(test_dataset, test_batch_size, shuffle=False,\n",
    "                                               num_workers=8, pin_memory=True)\n",
    "\n",
    "val_dataset = ValDataset(region_side_length,data_dir) #val dataset with bbox\n",
    "val_Dataloader = DataLoader(val_dataset, val_batch_size, shuffle=True,\n",
    "                                               num_workers=8, pin_memory=True)\n",
    "\n",
    "test_fps_dataset = Test_FPS_Dataset(region_side_length,data_dir) #FPS test only with image\n",
    "test_fps_Dataloader = DataLoader(test_fps_dataset, fps_bath_size, shuffle=True,\n",
    "                                               num_workers=8, pin_memory=True)\n",
    "\n",
    "testDataset_real = TestDataset_real(region_side_length,data_dir) #test dateset without resize_bbox\n",
    "tes_realDataloader = DataLoader(testDataset_real, test_batch_size, shuffle=False,\n",
    "                                               num_workers=8, pin_memory=True)\n",
    "\n",
    "#pixels coordinates\n",
    "pixel_coordinates = torch.zeros(128,128,2).cuda()\n",
    "print('pixel_coordinates constructing')\n",
    "for i in tqdm(range(128)):\n",
    "    for ii in range(128):\n",
    "        pixel_coordinates[i,ii,:] = torch.tensor([ii,i])*4\n",
    "\n",
    "#model construction\n",
    "model = FARN(resnet_type='resnet'+resnet_type, boxes_dx_dy = 4 * region_side_length).cuda()\n",
    "# model.load_state_dict(torch.load('./checkpoints_34/g1_FARN_region44_-set_t0.5_34_07map_0.8943_date_20201016_17_51_43'))\n",
    "\n",
    "optimizer =torch.optim.Adam(model.parameters(),lr=0.0001)\n",
    "\n",
    "#training logging\n",
    "# Log_path = 'output/g'+gpu_id+'_FARN_'+resnet_type+str(time.strftime(\"_date_%Y%m%d\"))+str(time.strftime(\"_%H_%M_%S.txt\"))\n",
    "Log_path = 'Experiments_log_'+resnet_type+'/g'+gpu_id+'_FARN_region'+str(region_side_length)+'_'+str(t)+'_'+resnet_type+str(time.strftime(\"_date_%Y%m%d\"))+str(time.strftime(\"_%H_%M_%S.txt\"))"
   ]
  },
  {
   "cell_type": "code",
   "execution_count": null,
   "metadata": {
    "ExecuteTime": {
     "end_time": "2021-06-28T07:58:43.903649Z",
     "start_time": "2021-06-28T07:56:03.511723Z"
    }
   },
   "outputs": [],
   "source": [
    "boxes_dx_dy = 4 * region_side_length\n",
    "bestmap_07 = 0\n",
    "bestmap_12 = 0\n",
    "losses = []\n",
    "\n",
    "if 1-os.path.exists('Experiments_log_'+resnet_type):\n",
    "     os.mkdir('Experiments_log_'+resnet_type)\n",
    "for epoch in range(5000):\n",
    "    if epoch < 10:\n",
    "        validate_interval = 10\n",
    "    else:\n",
    "        validate_interval = 1\n",
    "    model.train()\n",
    "    loss = Train_FARN(model,\n",
    "               epoch,\n",
    "               tra_Dataloader,\n",
    "               optimizer,\n",
    "               train_batch_size,\n",
    "               pixel_coordinates,\n",
    "               bodies_theshold=t,\n",
    "               coeff_dxdy=boxes_dx_dy,\n",
    "               visloss_per_iter=tra_Dataloader.__len__()/1,\n",
    "               if_iou = False,\n",
    "               S_set=False,\n",
    "                )\n",
    "    losses.append(loss)\n",
    "    fig = plt.figure()\n",
    "    ax = fig.add_subplot(111)\n",
    "    ax.set(title='PR',\n",
    "           ylabel='loss', xlabel='epoch')\n",
    "    plot1 = plt.plot(np.arange(epoch+1), losses, 'r',label='original values')\n",
    "    plt.show()\n",
    "    \n",
    "    if (epoch + 1) % validate_interval == 0:\n",
    "        model.eval()\n",
    "        MAP_07, MAP_12 = Validate_FARN(model,\n",
    "                                       epoch,\n",
    "                                       tes_realDataloader,\n",
    "                                       pixel_coordinates,\n",
    "                                       Log_path,\n",
    "                                       bestmap_07,\n",
    "                                       bestmap_12,\n",
    "                                       fliter_theshold=t,\n",
    "                                       scores_theshold=0,\n",
    "                                       nms_theshold=0.5,\n",
    "                                       nms_saved_images_num=20,\n",
    "                                       plot_PR=False,\n",
    "                                      )\n",
    "        if MAP_07 >= bestmap_07:\n",
    "            bestmap_07 = MAP_07\n",
    "            if MAP_07 > 0.80:\n",
    "                torch.save(model.state_dict(), 'checkpoints_'+resnet_type+'/g'+gpu_id+'_FARN_region'+str(region_side_length)+'_'+str(t)+'_'+resnet_type+'_07map_'+str(round(bestmap_07, 4))+str(time.strftime(\"_date_%Y%m%d\"))+str(time.strftime(\"_%H_%M_%S\")))\n",
    "        if MAP_12 >= bestmap_12:\n",
    "            bestmap_12 = MAP_12\n",
    "#             if MAP_12 > 0.80:\n",
    "#                 torch.save(model.state_dict(), 'checkpoints/FARN_'+'12map_'+str(round(bestmap_12, 4))+str(time.strftime(\"_date_%Y%m%d\"))+str(time.strftime(\"_%H_%M_%S\")))"
   ]
  }
 ],
 "metadata": {
  "kernelspec": {
   "display_name": "Python 3",
   "language": "python",
   "name": "python3"
  },
  "language_info": {
   "codemirror_mode": {
    "name": "ipython",
    "version": 3
   },
   "file_extension": ".py",
   "mimetype": "text/x-python",
   "name": "python",
   "nbconvert_exporter": "python",
   "pygments_lexer": "ipython3",
   "version": "3.7.7"
  },
  "toc": {
   "base_numbering": 1,
   "nav_menu": {},
   "number_sections": true,
   "sideBar": true,
   "skip_h1_title": false,
   "title_cell": "Table of Contents",
   "title_sidebar": "Contents",
   "toc_cell": false,
   "toc_position": {},
   "toc_section_display": true,
   "toc_window_display": false
  }
 },
 "nbformat": 4,
 "nbformat_minor": 4
}
